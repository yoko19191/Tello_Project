{
 "cells": [
  {
   "cell_type": "markdown",
   "metadata": {},
   "source": [
    "# Task3_QR-Code_Based Control"
   ]
  },
  {
   "cell_type": "markdown",
   "metadata": {},
   "source": [
    "## *1.Design and print your own QR codes*\n",
    "#### Preparation\n",
    "1. install qrcode library with pip3\n",
    "    ```bash\n",
    "        pip3 install qrcode\n",
    "   ```\n",
    "\n",
    "#### implement code"
   ]
  },
  {
   "cell_type": "code",
   "execution_count": null,
   "metadata": {
    "pycharm": {
     "name": "#%% python\n"
    }
   },
   "outputs": [],
   "source": [
    "import qrcode\n",
    "import cv2\n",
    "\n",
    "# the most simple way\n",
    "# qr = qrcode.make(\"hello world\")\n",
    "# qr.save('my_qr_code_png')\n",
    "\n",
    "'''\n",
    "https://pypi.org/project/qrcode/\n",
    "@param\n",
    "version (size_qr_code) int[1,40]\n",
    "error_correction [7,15,30]%\n",
    "box_size (size_img)\n",
    "border (size_border)\n",
    "'''\n",
    "\n",
    "qr = qrcode.QRCode(\n",
    "    version=1,\n",
    "    box_size=15,\n",
    "    border=5\n",
    ")\n",
    "\n",
    "# QR Code data design\n",
    "data = \"POINT_3\"\n",
    "\n",
    "# append data\n",
    "qr.add_data(data)\n",
    "# auto fit QR config\n",
    "qr.make(fit=True)\n",
    "\n",
    "# set QR color and save\n",
    "img = qr.make_image(fill='black', back_color='white')\n",
    "\n",
    "img.save(f'resource/{data}.png')\n",
    "\n",
    "# put Text on image\n",
    "bk_img = cv2.imread(f'resource/{data}.png')\n",
    "cv2.putText(bk_img, str(data), (10, 40), cv2.FONT_HERSHEY_SIMPLEX,\n",
    "            1, (0, 0, 255), 2, cv2.LINE_AA)\n",
    "cv2.imshow(str(data), bk_img)\n",
    "cv2.waitKey()\n",
    "\n",
    "#cv2.imwrite(\"resource/Add_Text.png\", bk_img)\n"
   ]
  },
  {
   "cell_type": "markdown",
   "metadata": {},
   "source": [
    "## *2.Test a QR code detector based on still image*\n",
    "#### Preparation\n",
    "1. install pyzbar library with pip3\n",
    "    ```bash\n",
    "        pip3 install pyzbar\n",
    "   ```\n",
    "    \\* if error occur , try this command before pip install\n",
    "    ```bash\n",
    "      sudo apt install libzbar0\n",
    "    ```\n",
    "\n",
    "#### implement code"
   ]
  },
  {
   "cell_type": "code",
   "execution_count": null,
   "metadata": {
    "pycharm": {
     "name": "#%% python\n"
    }
   },
   "outputs": [],
   "source": [
    "import cv2\n",
    "import numpy as np\n",
    "import pyzbar.pyzbar as pyzbar  # sudo apt install libzbar0\n",
    "\n",
    "path = \"resource/HELLO_WORLD.png\"\n",
    "\n",
    "# read still image\n",
    "image = cv2.imread(path)\n",
    "\n",
    "# decode with pyzbar API\n",
    "decodeObjects = pyzbar.decode(image)\n",
    "\n",
    "# print QR code result\n",
    "for obj in decodeObjects:\n",
    "    print(\"Type:\", obj.type)\n",
    "    print(\"Data:\", obj.data, \"\\n\")\n"
   ]
  },
  {
   "cell_type": "markdown",
   "metadata": {},
   "source": [
    "## *3.Test your QR code decoder from the camera stream in real time*\n",
    "#### embedded decode program into tello stream"
   ]
  },
  {
   "cell_type": "code",
   "execution_count": null,
   "metadata": {
    "pycharm": {
     "name": "#%% python\n"
    }
   },
   "outputs": [],
   "source": [
    "from djitellopy import Tello\n",
    "from time import sleep\n",
    "from Task3.resource import KeyPressModule as kp\n",
    "from pyzbar.pyzbar import decode\n",
    "import cv2\n",
    "from threading import Thread\n",
    "import numpy as np\n",
    "\n",
    "kp.init()\n",
    "tello = Tello()\n",
    "tello.connect()\n",
    "print(\"BATTERY:\", tello.get_battery())\n",
    "\n",
    "# define keyboard response\n",
    "def getKeyboardInput():\n",
    "    lr, fb, ud, yv = 0, 0, 0, 0\n",
    "    speed = 50\n",
    "    if kp.getKey(\"LEFT\"):\n",
    "        lr = -speed\n",
    "    elif kp.getKey(\"RIGHT\"):\n",
    "        lr = speed\n",
    "    if kp.getKey(\"UP\"):\n",
    "        fb = speed\n",
    "    elif kp.getKey(\"DOWN\"):\n",
    "        fb = -speed\n",
    "    if kp.getKey(\"w\"):\n",
    "        ud = speed\n",
    "    elif kp.getKey(\"s\"):\n",
    "        ud = -speed\n",
    "    if kp.getKey(\"a\"):\n",
    "        yv = -speed\n",
    "    elif kp.getKey(\"d\"):\n",
    "        yv = speed\n",
    "    if kp.getKey(\"q\"):\n",
    "        tello.land()\n",
    "        # sleep(3)\n",
    "    if kp.getKey(\"e\"):\n",
    "        tello.takeoff()\n",
    "    if kp.getKey(\"i\"):\n",
    "        tello.flip_forward()\n",
    "    if kp.getKey(\"k\"):\n",
    "        tello.flip_back()\n",
    "    if kp.getKey(\"j\"):\n",
    "        tello.flip_left()\n",
    "    if kp.getKey(\"l\"):\n",
    "        tello.flip_right()\n",
    "\n",
    "    return [lr, fb, ud, yv]\n",
    "\n",
    "\n",
    "# define video stream behavior\n",
    "def stream():\n",
    "    tello.streamon()\n",
    "    # get video stream\n",
    "    while True:\n",
    "        level = tello.get_battery()\n",
    "        img = tello.get_frame_read().frame\n",
    "        img = cv2.resize(img, (360, 240))\n",
    "        for barcode in decode(img):\n",
    "            result = barcode.data.decode('utf-8')\n",
    "            print(result)\n",
    "            pts = np.array([barcode.polygon], np.int32)\n",
    "            pts = pts.reshape((-1, 1, 2))\n",
    "            # put boundary box on qr code\n",
    "            cv2.polylines(img, [pts], True, (255, 0, 255), 5)\n",
    "            pts2 = barcode.rect\n",
    "            cv2.putText(img, result, (pts2[0], pts2[1]), cv2.FONT_HERSHEY_SIMPLEX,\n",
    "                        0.9, (255, 0, 255), 2)\n",
    "        cv2.putText(img, str(level), (10, 10), cv2.FONT_HERSHEY_PLAIN, 1, (0, 255, 0), 1)\n",
    "        cv2.imshow(\"Tello\", img)\n",
    "        cv2.waitKey(1)\n",
    "\n",
    "\n",
    "\n",
    "'''\n",
    "Press E to take off, Q to landing\n",
    "A and D control drone's yaw (clockwise or counter clockwise)\n",
    "W and S control drone's up and down\n",
    "Arrow UP and DOWN control drone's forward and backward\n",
    "Arrow RIGHT and LEFT control drone's left and right\n",
    "I, K, J, L doing flip\n",
    "'''\n",
    "if __name__ == \"__main__\":\n",
    "    video_thread = Thread(target=stream)\n",
    "    video_thread.start()\n",
    "    while True:\n",
    "        vals = getKeyboardInput()\n",
    "        tello.send_rc_control(vals[0], vals[1], vals[2], vals[3])\n",
    "        sleep(0.05)"
   ]
  },
  {
   "cell_type": "markdown",
   "metadata": {},
   "source": [
    "## *4.Use different QR codes to control the drone*\n",
    "#### STEP_0 : initialization tello"
   ]
  },
  {
   "cell_type": "code",
   "execution_count": null,
   "metadata": {
    "pycharm": {
     "name": "#%% python\n"
    }
   },
   "outputs": [],
   "source": [
    "from djitellopy import Tello\n",
    "from pyzbar.pyzbar import decode\n",
    "import cv2\n",
    "import numpy as np\n",
    "\n",
    "tello = Tello()\n",
    "tello.connect()\n",
    "print(\"BATTERY:\", tello.get_battery())"
   ]
  },
  {
   "cell_type": "markdown",
   "metadata": {},
   "source": [
    "#### STEP_1 : Define read QR doe behavior"
   ]
  },
  {
   "cell_type": "code",
   "execution_count": null,
   "metadata": {
    "pycharm": {
     "name": "#%% python\n"
    }
   },
   "outputs": [],
   "source": [
    "'''\n",
    "Response tello command with input string\n",
    "@:param cmd : command in string\n",
    "'''\n",
    "\n",
    "def getCodeInput(cmd):\n",
    "    print(\"QR_CMD\", cmd)\n",
    "    while True:\n",
    "        if cmd == \"MOVE_LEFT\":\n",
    "            tello.move_left(30)\n",
    "        elif cmd == \"MOVE_RIGHT\":\n",
    "            tello.move_right(30)\n",
    "        if cmd == \"MOVE_FORWARD\":\n",
    "            tello.move_forward(30)\n",
    "        elif cmd == \"MOVE_BACK\":\n",
    "            tello.move_back(30)\n",
    "        if cmd == \"MOVE_UP\":\n",
    "            tello.move_up(30)\n",
    "        elif cmd == \"MOVE_DOWN\":\n",
    "            tello.move_down(30)\n",
    "        if cmd == \"ROTATE_COUNTER_CLOCKWISE\":\n",
    "            tello.rotate_counter_clockwise(90)\n",
    "        elif cmd == \"ROTATE_CLOCKWISE\":\n",
    "            tello.rotate_clockwise(90)\n",
    "        if cmd == \"LAND\":\n",
    "            tello.land()\n",
    "        if cmd == \"TAKE_OFF\":\n",
    "            tello.takeoff()"
   ]
  },
  {
   "cell_type": "markdown",
   "metadata": {
    "pycharm": {
     "name": "#%% md\n"
    }
   },
   "source": [
    "#### STEP_3 : Main thread"
   ]
  },
  {
   "cell_type": "code",
   "execution_count": null,
   "metadata": {
    "pycharm": {
     "name": "#%% python\n"
    }
   },
   "outputs": [],
   "source": [
    "if __name__ == \"__main__\":\n",
    "    # enable tello stream\n",
    "    tello.streamon()\n",
    "    # command and count initialization\n",
    "    cmd = \"NULL\"\n",
    "    count = 0\n",
    "\n",
    "    while True:\n",
    "        level = tello.get_battery()\n",
    "        img = tello.get_frame_read().frame\n",
    "        img = cv2.resize(img, (360, 240))\n",
    "        # resolve every qr code from image\n",
    "        for barcode in decode(img):\n",
    "            data = barcode.data.decode('utf-8')\n",
    "            # save decode result in qr_cmd\n",
    "            cmd = data\n",
    "            count = count + 1\n",
    "            pts = np.array([barcode.polygon], np.int32)\n",
    "            pts = pts.reshape((-1, 1, 2))\n",
    "            cv2.polylines(img, [pts], True, (255, 0, 255), 5)\n",
    "            pts2 = barcode.rect\n",
    "            cv2.putText(img, data, (pts2[0], pts2[1]), cv2.FONT_HERSHEY_SIMPLEX,\n",
    "                        0.9, (255, 0, 255), 2)\n",
    "        cv2.putText(img, str(level), (10, 10), cv2.FONT_HERSHEY_PLAIN, 1, (0, 255, 0), 1)\n",
    "        cv2.imshow(\"Tello\", img)\n",
    "        if cv2.waitKey(1) & 0xFF == ord('q'):\n",
    "            tello.land()\n",
    "            break\n",
    "        # response cmd\n",
    "        if count > 30:\n",
    "            getCodeInput(cmd)\n",
    "            qr_count = 0\n",
    "            qr_cmd = \"NULL\""
   ]
  },
  {
   "cell_type": "markdown",
   "metadata": {},
   "source": [
    "## *5.(optional) Control drone autonomously to stay at a certain relative position to the QR codes*\n",
    "\n",
    "#### Define function in utlis module"
   ]
  },
  {
   "cell_type": "code",
   "execution_count": null,
   "metadata": {
    "pycharm": {
     "name": "#%% python\n"
    }
   },
   "outputs": [],
   "source": [
    "from djitellopy import Tello\n",
    "import pyzbar.pyzbar as pyzbar\n",
    "import cv2\n",
    "import numpy as np\n",
    "\n",
    "'''\n",
    "Initialize tello drone\n",
    "    1. create and connect Tello Drone\n",
    "    2. enable video streaming\n",
    "    3. set velocity to zero\n",
    "    4. print current battery level\n",
    "    5. return drone instance\n",
    "'''\n",
    "\n",
    "\n",
    "def initializeTello():\n",
    "    tello = Tello()\n",
    "    tello.connect()\n",
    "    tello.for_back_velocity = 0\n",
    "    tello.left_right_velocity = 0\n",
    "    tello.up_down_velocity = 0\n",
    "    tello.yaw_velocity = 0\n",
    "    tello.speed = 0\n",
    "    print(\"BATTERY:\", tello.get_battery());\n",
    "    tello.streamoff()\n",
    "    tello.streamon()\n",
    "    return tello\n",
    "\n",
    "\n",
    "'''\n",
    "Get Tello Drone Frame\n",
    "    @param tello : drone instance\n",
    "    @param w : width of frame\n",
    "    @param h : height of frame\n",
    "'''\n",
    "\n",
    "\n",
    "def getTelloFrame(tello, w=360, h=240):\n",
    "    frame = tello.get_frame_read().frame\n",
    "    img = cv2.resize(frame, (w, h))\n",
    "    level = tello.get_battery()\n",
    "    cv2.putText(img, str(level), (10, 10), cv2.FONT_HERSHEY_PLAIN, 1, (0, 255, 0), 1)\n",
    "\n",
    "    return img\n",
    "\n",
    "\n",
    "'''\n",
    "decode QR_code with pyzbar\n",
    "    @param img : input image\n",
    "    return img, qr_code position info\n",
    "'''\n",
    "\n",
    "\n",
    "def decode(img):\n",
    "    pts2 = [0, 0, 0, 0]\n",
    "    for barcode in pyzbar.decode(img):\n",
    "        data = barcode.data.decode('utf-8')\n",
    "        pts = np.array([barcode.polygon], np.int32)\n",
    "        pts = pts.reshape((-1, 1, 2))\n",
    "        cv2.polylines(img, [pts], True, (255, 0, 255), 3)\n",
    "        pts2 = barcode.rect\n",
    "        cv2.putText(img, data, (pts2[0], pts2[1]), cv2.FONT_HERSHEY_SIMPLEX,\n",
    "                    0.9, (255, 0, 255), 2)\n",
    "\n",
    "    # if QR_Code exits\n",
    "    if pts2[0] != 0 and pts2[1] != 0:\n",
    "        return img, pts2\n",
    "    else:\n",
    "        return img, [0, 0, 0, 0]\n",
    "\n",
    "\n",
    "'''\n",
    "PID Control drone at relative position\n",
    "    @param tello : drone instance\n",
    "    @param pts : qr code position\n",
    "    @param fw : width of frame\n",
    "    @param fh : height of frame\n",
    "    @param PID : PID control parameter (kp, kd, ki)\n",
    "    @param pError : previous error\n",
    "'''\n",
    "\n",
    "\n",
    "def trackQRCode(tello, pts, fw, fh, pid, pError):\n",
    "    # calculate error\n",
    "    yaw_error = pts[0] - fw // 2  # stay at middle of width\n",
    "    up_down_error = pts[1] - fh // 2 # stay at middle of height\n",
    "    for_back_error = pts[2] * pts[3] - 83 * 79 # stay at 15 cm from QR Code (test result)\n",
    "\n",
    "    # PID control Speed\n",
    "    yaw_speed = pid[0] * yaw_error + pid[1] * (yaw_error-pError[0])\n",
    "    up_down_speed = pid[0] * up_down_error + pid[1] * (up_down_error-pError[1])\n",
    "    for_back_speed = pid[0] * for_back_error + pid[1] * (for_back_error-pError[2])\n",
    "\n",
    "    # if QR code exits\n",
    "    if pts[0] != 0 and pts[1] != 0:\n",
    "        tello.yaw_velocity = yaw_speed\n",
    "        tello.up_down_velocity = up_down_speed\n",
    "        tello.for_back_velocity = for_back_speed\n",
    "    else:\n",
    "        tello.yaw_velocity = 0\n",
    "        tello.left_right_velocity = 0\n",
    "        tello.up_down_velocity = 0\n",
    "        tello.yaw_velocity = 0\n",
    "        yaw_error = 0\n",
    "        up_down_error = 0\n",
    "        for_back_error = 0\n",
    "\n",
    "    if tello.send_rc_control:\n",
    "        tello.send_rc_control(tello.left_right_velocity,\n",
    "                              tello.for_back_velocity,\n",
    "                              tello.up_down_velocity,\n",
    "                              tello.yaw_velocity)\n",
    "\n",
    "    return [yaw_error, up_down_error, for_back_error]\n"
   ]
  },
  {
   "cell_type": "markdown",
   "metadata": {
    "pycharm": {
     "name": "#%% md\n"
    }
   },
   "source": [
    "#### Main Program"
   ]
  },
  {
   "cell_type": "code",
   "execution_count": null,
   "metadata": {
    "pycharm": {
     "name": "#%% python\n"
    }
   },
   "outputs": [],
   "source": [
    "from utlis import *\n",
    "import cv2\n",
    "\n",
    "# frame size\n",
    "w, h = 360, 250\n",
    "# PID param kp ki kd\n",
    "pid= [0.5, 0.5, 0]\n",
    "# previous Error : yaw_error, up_down_error, for_back_error\n",
    "pError = [0, 0, 0]\n",
    "\n",
    "\n",
    "if __name__ == \"__main__\":\n",
    "    # Tello Initialization\n",
    "    tello = initializeTello()\n",
    "\n",
    "    while True:\n",
    "        img = getTelloFrame(tello, w, h)\n",
    "        img, pts = decode(img)\n",
    "\n",
    "        # print(\"W:\", pts[2], \"H\", pts[3]) # W,H = 83, 79 at 15cm => 6557\n",
    "\n",
    "        # control tello in PID way( only PI actually)\n",
    "        pError = trackQRCode(tello, pts, w, h, pid, pError)\n",
    "\n",
    "        cv2.imshow(\"Image\", img)\n",
    "        if cv2.waitKey(1) & 0xFF == ord('q'):\n",
    "            tello.land()\n",
    "            break"
   ]
  }
 ],
 "metadata": {
  "kernelspec": {
   "display_name": "Python 3",
   "language": "python",
   "name": "python3"
  },
  "language_info": {
   "codemirror_mode": {
    "name": "ipython",
    "version": 3
   },
   "file_extension": ".py",
   "mimetype": "text/x-python",
   "name": "python",
   "nbconvert_exporter": "python",
   "pygments_lexer": "ipython3",
   "version": "3.8.5"
  }
 },
 "nbformat": 4,
 "nbformat_minor": 1
}
