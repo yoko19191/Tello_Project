{
 "cells": [
  {
   "cell_type": "markdown",
   "metadata": {
    "pycharm": {
     "name": "#%% md\n"
    }
   },
   "source": [
    "# Task 1_Basic_Tello_Control"
   ]
  },
  {
   "cell_type": "markdown",
   "source": [
    "## *1.Taking_off and landing*\n",
    "\n",
    "    \"write a short code to command the drone to\n",
    "    hover in the air a few seconds and then land.\""
   ],
   "metadata": {
    "collapsed": false,
    "pycharm": {
     "name": "#%% md\n"
    }
   }
  },
  {
   "cell_type": "markdown",
   "source": [
    "#### STEP_0 : Preparation\n",
    "    1. Install tello API library with pip3\n",
    "\n",
    "        ```bash\n",
    "            pip3 install djitellopy2\n",
    "        ```"
   ],
   "metadata": {
    "collapsed": false,
    "pycharm": {
     "name": "#%% md\n"
    }
   }
  },
  {
   "cell_type": "markdown",
   "source": [
    "#### STEP_1 : import tello drone library"
   ],
   "metadata": {
    "collapsed": false,
    "pycharm": {
     "name": "#%% md\n"
    }
   }
  },
  {
   "cell_type": "code",
   "execution_count": null,
   "outputs": [],
   "source": [
    "from djitellopy import Tello\n",
    "from time import sleep"
   ],
   "metadata": {
    "collapsed": false,
    "pycharm": {
     "name": "#%% python\n"
    }
   }
  },
  {
   "cell_type": "markdown",
   "source": [
    "#### STEP_2 : Create drone instance and connect to drone"
   ],
   "metadata": {
    "collapsed": false,
    "pycharm": {
     "name": "#%% md\n"
    }
   }
  },
  {
   "cell_type": "code",
   "execution_count": null,
   "outputs": [],
   "source": [
    "tello = Tello()\n",
    "tello.connect()"
   ],
   "metadata": {
    "collapsed": false,
    "pycharm": {
     "name": "#%% python\n"
    }
   }
  },
  {
   "cell_type": "markdown",
   "source": [
    "#### STEP_3 : print current battery level"
   ],
   "metadata": {
    "collapsed": false,
    "pycharm": {
     "name": "#%% md\n"
    }
   }
  },
  {
   "cell_type": "code",
   "execution_count": null,
   "outputs": [],
   "source": [
    "print(\"BATTERY:\", tello.get_battery())"
   ],
   "metadata": {
    "collapsed": false,
    "pycharm": {
     "name": "#%% python\n"
    }
   }
  },
  {
   "cell_type": "markdown",
   "source": [
    "#### STEP_4 : Sending take off command and hover for 3 second"
   ],
   "metadata": {
    "collapsed": false,
    "pycharm": {
     "name": "#%% md\n"
    }
   }
  },
  {
   "cell_type": "code",
   "execution_count": null,
   "outputs": [],
   "source": [
    "tello.takeoff()\n",
    "sleep(3)"
   ],
   "metadata": {
    "collapsed": false,
    "pycharm": {
     "name": "#%% python\n"
    }
   }
  },
  {
   "cell_type": "markdown",
   "source": [
    "#### STEP_5 : Sending land command"
   ],
   "metadata": {
    "collapsed": false,
    "pycharm": {
     "name": "#%% md\n"
    }
   }
  },
  {
   "cell_type": "code",
   "execution_count": null,
   "outputs": [],
   "source": [
    "tello.land()"
   ],
   "metadata": {
    "collapsed": false,
    "pycharm": {
     "name": "#%% python\n"
    }
   }
  },
  {
   "cell_type": "markdown",
   "source": [
    "## *2.Moving_around*\n",
    "\n",
    "    \"write a short code to command the drone into moving\n",
    "    following a 2*2m square(approximately based on\n",
    "    flight time at constant speed)\""
   ],
   "metadata": {
    "collapsed": false,
    "pycharm": {
     "name": "#%% md\n"
    }
   }
  },
  {
   "cell_type": "markdown",
   "source": [
    "#### STEP_1 : import library and connect to drone"
   ],
   "metadata": {
    "collapsed": false,
    "pycharm": {
     "name": "#%% md\n"
    }
   }
  },
  {
   "cell_type": "code",
   "execution_count": null,
   "outputs": [],
   "source": [
    "from djitellopy import Tello\n",
    "\n",
    "tello = Tello()\n",
    "tello.connect()\n",
    "print(\"BATTERY:\", tello.get_battery())\n",
    "\n",
    "tello.set_speed(20)"
   ],
   "metadata": {
    "collapsed": false,
    "pycharm": {
     "name": "#%% python\n"
    }
   }
  },
  {
   "cell_type": "markdown",
   "source": [
    "#### STEP_2 : taking off and moving up 50 cm"
   ],
   "metadata": {
    "collapsed": false,
    "pycharm": {
     "name": "#%% md\n"
    }
   }
  },
  {
   "cell_type": "code",
   "execution_count": null,
   "outputs": [],
   "source": [
    "tello.takeoff()\n",
    "tello.move_up(50)"
   ],
   "metadata": {
    "collapsed": false,
    "pycharm": {
     "name": "#%% python\n"
    }
   }
  },
  {
   "cell_type": "markdown",
   "source": [
    "#### STEP_3 : forward 100 cm and back origin position"
   ],
   "metadata": {
    "collapsed": false,
    "pycharm": {
     "name": "#%% md\n"
    }
   }
  },
  {
   "cell_type": "code",
   "execution_count": null,
   "outputs": [],
   "source": [
    "tello.move_forward(100)\n",
    "tello.move_back(100)"
   ],
   "metadata": {
    "collapsed": false,
    "pycharm": {
     "name": "#%% python\n"
    }
   }
  },
  {
   "cell_type": "markdown",
   "source": [
    "#### STEP_4 : left 100 cm and back origin position"
   ],
   "metadata": {
    "collapsed": false
   }
  },
  {
   "cell_type": "code",
   "execution_count": null,
   "outputs": [],
   "source": [
    "tello.move_left(100)\n",
    "tello.move_right(100)"
   ],
   "metadata": {
    "collapsed": false,
    "pycharm": {
     "name": "#%% python\n"
    }
   }
  },
  {
   "cell_type": "markdown",
   "source": [
    "#### STEP_5 : backward 100 cm and back origin position"
   ],
   "metadata": {
    "collapsed": false
   }
  },
  {
   "cell_type": "code",
   "execution_count": null,
   "outputs": [],
   "source": [
    "tello.move_back(100)\n",
    "tello.move_forward(100)"
   ],
   "metadata": {
    "collapsed": false,
    "pycharm": {
     "name": "#%% python\n"
    }
   }
  },
  {
   "cell_type": "markdown",
   "source": [
    "#### STEP_6 : right 100 cm and back origin position then landing"
   ],
   "metadata": {
    "collapsed": false
   }
  },
  {
   "cell_type": "code",
   "execution_count": null,
   "outputs": [],
   "source": [
    "tello.move_right(100)\n",
    "tello.move_left(100)\n",
    "tello.land()"
   ],
   "metadata": {
    "collapsed": false,
    "pycharm": {
     "name": "#%% python\n"
    }
   }
  },
  {
   "cell_type": "markdown",
   "source": [
    "![Flight_Path](resource/move_around_path.JPG)"
   ],
   "metadata": {
    "collapsed": false,
    "pycharm": {
     "name": "#%% md\n"
    }
   }
  },
  {
   "cell_type": "markdown",
   "source": [
    "## *3.Monitoring the battery level*\n",
    "    \"write a short code that commands the drone to land\n",
    "    if the battery level is below a threshold. Also,\n",
    "    print the battery level in the terminal when it 5% steps.\""
   ],
   "metadata": {
    "collapsed": false,
    "pycharm": {
     "name": "#%% md\n"
    }
   }
  },
  {
   "cell_type": "markdown",
   "source": [
    "#### STEP_1 : Initialization Drone"
   ],
   "metadata": {
    "collapsed": false,
    "pycharm": {
     "name": "#%% md\n"
    }
   }
  },
  {
   "cell_type": "code",
   "execution_count": null,
   "outputs": [],
   "source": [
    "from djitellopy import Tello\n",
    "import cv2\n",
    "\n",
    "# frame size\n",
    "w, h = 360, 240\n",
    "\n",
    "# create tello instance\n",
    "tello = Tello()\n",
    "tello.connect()\n",
    "tello.streamon()\n",
    "\n",
    "# print current battery level\n",
    "print(\"BATTERY:\", tello.get_battery())"
   ],
   "metadata": {
    "collapsed": false,
    "pycharm": {
     "name": "#%% python\n"
    }
   }
  },
  {
   "cell_type": "markdown",
   "source": [
    "#### STEP_2 : Set a start count so that drone only takeoff once\n"
   ],
   "metadata": {
    "collapsed": false,
    "pycharm": {
     "name": "#%% md\n"
    }
   }
  },
  {
   "cell_type": "code",
   "source": [
    "# zero mean ready to flight, one mean has flight\n",
    "startCounter = 0"
   ],
   "metadata": {
    "collapsed": false,
    "pycharm": {
     "name": "#%% python\n"
    }
   },
   "execution_count": null,
   "outputs": []
  },
  {
   "cell_type": "markdown",
   "source": [
    "#### STEP_3 : Monitoring battery level in super loop"
   ],
   "metadata": {
    "collapsed": false
   }
  },
  {
   "cell_type": "code",
   "source": [
    "while True:\n",
    "    # take off at first time\n",
    "    if startCounter == 0:\n",
    "        tello.takeoff()\n",
    "        startCounter = 1\n",
    "    # Get stream frame and resize frame\n",
    "    img = tello.get_frame_read().frame\n",
    "    img = cv2.resize(img, (360, 240))\n",
    "    # put battery level on each frame\n",
    "    level = tello.get_battery()\n",
    "    cv2.putText(img, str(level), (10, 10), cv2.FONT_HERSHEY_PLAIN, 1, (0, 255, 0), 1)\n",
    "    cv2.imshow(\"Tello\", img)\n",
    "    # wait frame loading and press 'q' to land\n",
    "    if cv2.waitKey(1) & 0xFF == ord('q'):\n",
    "        tello.land()\n",
    "        break\n"
   ],
   "metadata": {
    "collapsed": false,
    "pycharm": {
     "name": "#%% python\n"
    }
   },
   "execution_count": null,
   "outputs": []
  },
  {
   "cell_type": "markdown",
   "source": [
    "## *4.Tello_acrobatics*\n",
    "    \"use your keyboard input to control the drone. Use keys for\n",
    "    (1)taking off, (2)landing, and (3)-(8) doing flips\n",
    "     in different directions\""
   ],
   "metadata": {
    "collapsed": false
   }
  },
  {
   "cell_type": "markdown",
   "source": [
    "#### STEP_0 : Create a windows with pygame"
   ],
   "metadata": {
    "collapsed": false,
    "pycharm": {
     "name": "#%% md\n"
    }
   }
  },
  {
   "cell_type": "code",
   "source": [
    "import pygame\n",
    "\n",
    "def init():\n",
    "    pygame.init()\n",
    "    win = pygame.display.set_mode((400, 400))\n",
    "\n",
    "def getKey(keyName):\n",
    "    ans = False\n",
    "    for eve in pygame.event.get(): pass\n",
    "    keyInput = pygame.key.get_pressed()\n",
    "    myKey = getattr(pygame, 'K_{}'.format(keyName))\n",
    "    if keyInput[myKey]:\n",
    "        ans = True\n",
    "    pygame.display.update()\n",
    "    return ans\n",
    "\n",
    "def main():\n",
    "    if getKey(\"LEFT\"):\n",
    "        print(\"Left key Pressed\")\n",
    "    if getKey(\"RIGHT\"):\n",
    "        print(\"Right key Pressed\")\n",
    "\n",
    "\n",
    "if __name__ == '__main__':\n",
    "    init()\n",
    "    while True:\n",
    "        main()"
   ],
   "metadata": {
    "collapsed": false,
    "pycharm": {
     "name": "#%% python\n"
    }
   },
   "execution_count": null,
   "outputs": []
  },
  {
   "cell_type": "markdown",
   "source": [
    "#### STEP_1 : Initialization Drone"
   ],
   "metadata": {
    "collapsed": false,
    "pycharm": {
     "name": "#%% md\n"
    }
   }
  },
  {
   "cell_type": "code",
   "execution_count": null,
   "outputs": [],
   "source": [
    "from djitellopy import Tello\n",
    "from time import sleep\n",
    "from Task1.resource import KeyPressModule as kp\n",
    "import cv2\n",
    "from threading import Thread\n",
    "\n",
    "# py game initialization\n",
    "kp.init()\n",
    "# tello initialization\n",
    "tello = Tello()\n",
    "tello.connect()\n",
    "print(\"BATTERY:\", tello.get_battery())"
   ],
   "metadata": {
    "collapsed": false,
    "pycharm": {
     "name": "#%% python\n"
    }
   }
  },
  {
   "cell_type": "markdown",
   "source": [
    "#### STEP_2 : Define Keyboard behavior"
   ],
   "metadata": {
    "collapsed": false,
    "pycharm": {
     "name": "#%% md\n"
    }
   }
  },
  {
   "cell_type": "code",
   "execution_count": null,
   "outputs": [],
   "source": [
    "def getKeyboardInput():\n",
    "    lr, fb, ud, yv = 0, 0, 0, 0\n",
    "    speed = 50\n",
    "    if kp.getKey(\"LEFT\"):\n",
    "        lr = -speed\n",
    "    elif kp.getKey(\"RIGHT\"):\n",
    "        lr = speed\n",
    "    if kp.getKey(\"UP\"):\n",
    "        fb = speed\n",
    "    elif kp.getKey(\"DOWN\"):\n",
    "        fb = -speed\n",
    "    if kp.getKey(\"w\"):\n",
    "        ud = speed\n",
    "    elif kp.getKey(\"s\"):\n",
    "        ud = -speed\n",
    "    if kp.getKey(\"a\"):\n",
    "        yv = -speed\n",
    "    elif kp.getKey(\"d\"):\n",
    "        yv = speed\n",
    "    if kp.getKey(\"q\"):\n",
    "        tello.land()\n",
    "        # sleep(3)\n",
    "    if kp.getKey(\"e\"):\n",
    "        tello.takeoff()\n",
    "    if kp.getKey(\"i\"):\n",
    "        tello.flip_forward()\n",
    "    if kp.getKey(\"k\"):\n",
    "        tello.flip_back()\n",
    "    if kp.getKey(\"j\"):\n",
    "        tello.flip_left()\n",
    "    if kp.getKey(\"l\"):\n",
    "        tello.flip_right()\n",
    "    if kp.getKey(\"x\"):\n",
    "        print(\"HEIGHT:\", tello.get_height())\n",
    "        print(\"BAROMETER:\", tello.get_barometer())\n",
    "\n",
    "    return [lr, fb, ud, yv]"
   ],
   "metadata": {
    "collapsed": false,
    "pycharm": {
     "name": "#%% python\n"
    }
   }
  },
  {
   "cell_type": "markdown",
   "source": [
    "#### STEP_4 : Put video stream in external thread"
   ],
   "metadata": {
    "collapsed": false,
    "pycharm": {
     "name": "#%% md\n"
    }
   }
  },
  {
   "cell_type": "code",
   "execution_count": null,
   "outputs": [],
   "source": [
    "def stream():\n",
    "    tello.streamon()\n",
    "    # get video stream\n",
    "    while True:\n",
    "        level = tello.get_battery()\n",
    "        img = tello.get_frame_read().frame\n",
    "        img = cv2.resize(img, (360, 240))\n",
    "        cv2.putText(img, str(level), (10, 10), cv2.FONT_HERSHEY_PLAIN, 1, (0, 255, 0), 1)\n",
    "        cv2.imshow(\"Tello\", img)\n",
    "        cv2.waitKey(1)"
   ],
   "metadata": {
    "collapsed": false,
    "pycharm": {
     "name": "#%% python\n"
    }
   }
  },
  {
   "cell_type": "markdown",
   "source": [
    "#### STEP_5 : Main Thread"
   ],
   "metadata": {
    "collapsed": false,
    "pycharm": {
     "name": "#%% md\n"
    }
   }
  },
  {
   "cell_type": "code",
   "execution_count": null,
   "outputs": [],
   "source": [
    "'''\n",
    "Press E to take off, Q to landing\n",
    "A and D control drone's yaw (clockwise or counter clockwise)\n",
    "W and S control drone's up and down\n",
    "Arrow UP and DOWN control drone's forward and backward\n",
    "Arrow RIGHT and LEFT control drone's left and right\n",
    "I, K, J, L doing flip\n",
    "'''\n",
    "if __name__ == \"__main__\":\n",
    "    video_thread = Thread(target=stream)\n",
    "    video_thread.start()\n",
    "    while True:\n",
    "        vals = getKeyboardInput()\n",
    "        tello.send_rc_control(vals[0], vals[1], vals[2], vals[3])\n",
    "        sleep(0.05)"
   ],
   "metadata": {
    "collapsed": false,
    "pycharm": {
     "name": "#%% python\n"
    }
   }
  }
 ],
 "metadata": {
  "kernelspec": {
   "display_name": "Python 3",
   "language": "python",
   "name": "python3"
  },
  "language_info": {
   "codemirror_mode": {
    "name": "ipython",
    "version": 3
   },
   "file_extension": ".py",
   "mimetype": "text/x-python",
   "name": "python",
   "nbconvert_exporter": "python",
   "pygments_lexer": "ipython3",
   "version": "3.8.5"
  }
 },
 "nbformat": 4,
 "nbformat_minor": 1
}