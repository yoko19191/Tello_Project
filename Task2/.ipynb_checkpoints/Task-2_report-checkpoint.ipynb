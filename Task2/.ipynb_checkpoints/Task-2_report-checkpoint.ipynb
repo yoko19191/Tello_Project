{
 "cells": [
  {
   "cell_type": "markdown",
   "metadata": {
    "collapsed": true,
    "pycharm": {
     "name": "#%% md\n"
    }
   },
   "source": [
    "# Task2_Face_Detection"
   ]
  },
  {
   "cell_type": "markdown",
   "metadata": {
    "pycharm": {
     "name": "#%% md\n"
    }
   },
   "source": [
    "## *1_Face_detection_with_openCV*\n",
    "    \"run the example code provided by instructor to be\n",
    "    able to detect faces in still images using Haar cascade\"\n",
    "\n",
    "#### STEP_0 : Preparation\n",
    "1. Download haarcascades file from this [link](https://github.com/opencv/opencv/tree/master/data/haarcascades)\n",
    "2. Install opencv with pip3\n",
    "    ```bash\n",
    "      pip3 install opencv-python\n",
    "    ```\n",
    "\n",
    "#### STEP_1 : implement code"
   ]
  },
  {
   "cell_type": "code",
   "execution_count": null,
   "metadata": {
    "pycharm": {
     "name": "#%% python\n"
    }
   },
   "outputs": [],
   "source": [
    "import cv2\n",
    "\n",
    "# import weight file\n",
    "face_cascade = cv2.CascadeClassifier('resource/haarcascade_frontalface_default.xml')\n",
    "eye_cascade = cv2.CascadeClassifier('resource/haarcascade_eye.xml')\n",
    "\n",
    "# read local image\n",
    "img = cv2.imread('resource/I_am_a_big_boy.jpg')\n",
    "# convert RGB into gray_scale\n",
    "gray = cv2.cvtColor(img, cv2.COLOR_BGR2GRAY)\n",
    "\n",
    "# call opencv api and save results in faces\n",
    "faces = face_cascade.detectMultiScale(gray, 1.3, 5)\n",
    "\n",
    "# draw faces on image\n",
    "for (x, y, w, h) in faces:\n",
    "    img = cv2.rectangle(img, (x, y), (x + w, y + h), (255, 0, 0), 2)\n",
    "    roi_gray = gray[y:y + h, x:x + w]\n",
    "    roi_color = img[y:y + h, x:x + w]\n",
    "    eyes = eye_cascade.detectMultiScale(roi_gray)\n",
    "    for (ex, ey, ew, eh) in eyes:\n",
    "        cv2.rectangle(roi_color, (ex, ey), (ex + ew, ey + eh), (0, 255, 0), 2)\n",
    "\n",
    "# present image\n",
    "cv2.namedWindow(\"face_detection\", 0)\n",
    "cv2.resizeWindow(\"face_detection\", 640, 480)\n",
    "cv2.imshow('face_detection', img)\n",
    "cv2.waitKey(0)\n",
    "cv2.destroyAllWindows()"
   ]
  },
  {
   "cell_type": "markdown",
   "metadata": {
    "pycharm": {
     "name": "#%% md\n"
    }
   },
   "source": [
    "Result:\n",
    "![result](resource/face.png)"
   ]
  },
  {
   "cell_type": "markdown",
   "metadata": {},
   "source": [
    "## *2_Real-time face detection*\n",
    "    \"merge your face detection code with the tello control code \n",
    "    so that you can detect faces from the tello camera stream in real time\"\n",
    "\n",
    "#### Simply embedded face detection into tello streaming"
   ]
  },
  {
   "cell_type": "code",
   "execution_count": null,
   "metadata": {
    "pycharm": {
     "name": "#%% python\n"
    }
   },
   "outputs": [],
   "source": [
    "from djitellopy import Tello\n",
    "from time import sleep\n",
    "from Task2.resource import KeyPressModule as kp\n",
    "import cv2\n",
    "from threading import Thread\n",
    "\n",
    "kp.init()\n",
    "tello = Tello()\n",
    "tello.connect()\n",
    "print(\"BATTERY:\", tello.get_battery())\n",
    "\n",
    "# define keyboard response\n",
    "def getKeyboardInput():\n",
    "    lr, fb, ud, yv = 0, 0, 0, 0\n",
    "    speed = 50\n",
    "    if kp.getKey(\"LEFT\"):\n",
    "        lr = -speed\n",
    "    elif kp.getKey(\"RIGHT\"):\n",
    "        lr = speed\n",
    "    if kp.getKey(\"UP\"):\n",
    "        fb = speed\n",
    "    elif kp.getKey(\"DOWN\"):\n",
    "        fb = -speed\n",
    "    if kp.getKey(\"w\"):\n",
    "        ud = speed\n",
    "    elif kp.getKey(\"s\"):\n",
    "        ud = -speed\n",
    "    if kp.getKey(\"a\"):\n",
    "        yv = -speed\n",
    "    elif kp.getKey(\"d\"):\n",
    "        yv = speed\n",
    "    if kp.getKey(\"q\"):\n",
    "        tello.land()\n",
    "        # Csleep(3)\n",
    "    if kp.getKey(\"e\"):\n",
    "        tello.takeoff()\n",
    "    if kp.getKey(\"i\"):\n",
    "        tello.flip_forward()\n",
    "    if kp.getKey(\"k\"):\n",
    "        tello.flip_back()\n",
    "    if kp.getKey(\"j\"):\n",
    "        tello.flip_left()\n",
    "    if kp.getKey(\"l\"):\n",
    "        tello.flip_right()\n",
    "\n",
    "    return [lr, fb, ud, yv]\n",
    "\n",
    "\n",
    "# define video stream behavior\n",
    "def stream():\n",
    "    tello.streamon()\n",
    "    # import weight file\n",
    "    face_cascade = cv2.CascadeClassifier('resource/haarcascade_frontalface_default.xml')\n",
    "    eye_cascade = cv2.CascadeClassifier('resource/haarcascade_eye.xml')\n",
    "    # get video stream\n",
    "    while True:\n",
    "        level = tello.get_battery()\n",
    "        img = tello.get_frame_read().frame\n",
    "        img = cv2.resize(img, (360, 240))\n",
    "        # convert RGB into gray_scale\n",
    "        gray = cv2.cvtColor(img, cv2.COLOR_BGR2GRAY)\n",
    "        # call opencv api and save results in faces\n",
    "        faces = face_cascade.detectMultiScale(gray, 1.3, 5)\n",
    "        # draw faces on image\n",
    "        for (x, y, w, h) in faces:\n",
    "            img = cv2.rectangle(img, (x, y), (x + w, y + h), (255, 0, 0), 2)\n",
    "            roi_gray = gray[y:y + h, x:x + w]\n",
    "            roi_color = img[y:y + h, x:x + w]\n",
    "            eyes = eye_cascade.detectMultiScale(roi_gray)\n",
    "            for (ex, ey, ew, eh) in eyes:\n",
    "                cv2.rectangle(roi_color, (ex, ey), (ex + ew, ey + eh), (0, 255, 0), 2)\n",
    "        cv2.putText(img, str(level), (10, 10), cv2.FONT_HERSHEY_PLAIN, 1, (0, 255, 0), 1)\n",
    "        cv2.imshow(\"Tello_Face_Detection\", img)\n",
    "        cv2.waitKey(1)\n",
    "\n",
    "\n",
    "\n",
    "'''\n",
    "Press E to take off, Q to landing\n",
    "A and D control drone's yaw (clockwise or counter clockwise)\n",
    "W and S control drone's up and down\n",
    "Arrow UP and DOWN control drone's forward and backward\n",
    "Arrow RIGHT and LEFT control drone's left and right\n",
    "I, K, J, L doing flip\n",
    "'''\n",
    "if __name__ == \"__main__\":\n",
    "    video_thread = Thread(target=stream)\n",
    "    video_thread.start()\n",
    "    while True:\n",
    "        vals = getKeyboardInput()\n",
    "        tello.send_rc_control(vals[0], vals[1], vals[2], vals[3])\n",
    "        sleep(0.05)\n",
    "\n",
    "\n",
    "\n",
    "\n",
    "\n",
    "\n"
   ]
  }
 ],
 "metadata": {
  "kernelspec": {
   "display_name": "Python 3",
   "language": "python",
   "name": "python3"
  },
  "language_info": {
   "codemirror_mode": {
    "name": "ipython",
    "version": 3
   },
   "file_extension": ".py",
   "mimetype": "text/x-python",
   "name": "python",
   "nbconvert_exporter": "python",
   "pygments_lexer": "ipython3",
   "version": "3.8.5"
  }
 },
 "nbformat": 4,
 "nbformat_minor": 1
}
